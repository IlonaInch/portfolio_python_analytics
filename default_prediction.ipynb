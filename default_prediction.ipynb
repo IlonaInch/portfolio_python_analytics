{
  "nbformat": 4,
  "nbformat_minor": 0,
  "metadata": {
    "_change_revision": 36,
    "_is_fork": false,
    "kernelspec": {
      "display_name": "Python 3",
      "language": "python",
      "name": "python3"
    },
    "language_info": {
      "codemirror_mode": {
        "name": "ipython",
        "version": 3
      },
      "file_extension": ".py",
      "mimetype": "text/x-python",
      "name": "python",
      "nbconvert_exporter": "python",
      "pygments_lexer": "ipython3",
      "version": "3.7.4"
    },
    "colab": {
      "name": "default_prediction.ipynb",
      "provenance": [],
      "collapsed_sections": []
    }
  },
  "cells": [
    {
      "cell_type": "markdown",
      "metadata": {
        "id": "YPyHCYq85ybg"
      },
      "source": [
        "# Предсказание дефолта по кредиту\n",
        "\n",
        "Многие люди берут кредит в банке, некоторые не отдают. Мы не знаем, что значит каждый из 5 предикторов, поэтому не будем описывать каждый в подробности. \n",
        "Задача: построить две модели, предсказывающие дефолт потенциального заемщика по кредиту.\n",
        "\n",
        "Задача предсказания дефолта - задача классификации, а результат работы модели для конкретного клиента - предсказать произойдет дефолт или нет.\n",
        "В этой тетради мы рассмотрим вопрос измерения качества работы обученных\n",
        "классификаторов. На примерах мы опишем различные метрики качества и способы\n",
        "их подсчёта."
      ]
    },
    {
      "cell_type": "markdown",
      "metadata": {
        "id": "2dUhVZCu5ybj"
      },
      "source": [
        "**Бизнес-постановка задачи** \n",
        "\n",
        "Банк по анкетным данным оценивает вероятность того, что для конкретного клиента произойдет дефолт.\n",
        "Применение модели:\n",
        "* банк хочет выдавать кредиты только хорошим заемщикам, которые отдадут кредит."
      ]
    },
    {
      "cell_type": "markdown",
      "metadata": {
        "id": "EIeWHMYy5ybk"
      },
      "source": [
        "**Постановка задачи анализа данных** \n",
        "\n",
        "Целью данной задачи является построение модели *классификации дефолтов*: на вход модель будет принимать данные о клиенте, а на выходе она должна работать в двух режимах:\n",
        "* выдавать вероятность дефолта для данного клиента,\n",
        "* выдавать правильный с точки зрения модели класс клиента (есть у него дефолт или нет).\n",
        "\n",
        "Обучить модель по имеющимся данным тестового задания."
      ]
    },
    {
      "cell_type": "markdown",
      "metadata": {
        "id": "95_CkbI85ybl"
      },
      "source": [
        "**Обзор доступных данных**\n",
        "\n",
        "В выборке 5000 наблюдений и 6 переменных, одна из которых - целевая. \n",
        "\n",
        "Выборка была разбита на две части для обучения и для тестирования модели.\n",
        "В обучающей выборке 5000 клиентов, в тестовой выборке - ?"
      ]
    },
    {
      "cell_type": "markdown",
      "metadata": {
        "id": "hfVS8uwb5ybn"
      },
      "source": [
        "## 1. Загрузить данные для обучения"
      ]
    },
    {
      "cell_type": "markdown",
      "metadata": {
        "id": "OeyesM8f5ybo"
      },
      "source": [
        "**Шаг 1.1. Загружаем библиотеки**  "
      ]
    },
    {
      "cell_type": "code",
      "metadata": {
        "_cell_guid": "cfdaacbc-23a3-423d-8d4d-120939ac7383",
        "id": "mqg4gKIf5ybp"
      },
      "source": [
        "import pandas as pd\n",
        "import numpy as np\n",
        "%matplotlib inline\n",
        "import matplotlib.pyplot as plt\n",
        "\n",
        "import seaborn as sns\n",
        "sns.set_style('whitegrid')\n",
        "\n",
        "import warnings\n",
        "warnings.filterwarnings(\"ignore\")\n",
        "from sklearn import linear_model, ensemble\n",
        "\n",
        "from sklearn.ensemble import RandomForestClassifier, GradientBoostingClassifier\n",
        "from sklearn.model_selection import cross_val_score\n",
        "from sklearn.linear_model import LogisticRegression\n",
        "from sklearn.metrics import accuracy_score\n",
        "\n",
        "from sklearn.ensemble import RandomForestClassifier\n",
        "from sklearn.model_selection import cross_val_score\n",
        "from sklearn.metrics import accuracy_score\n",
        "from sklearn.model_selection import train_test_split\n",
        "\n",
        "from sklearn.metrics import roc_curve,  auc # метрики качества\n",
        "from sklearn.metrics import confusion_matrix # метрики качества"
      ],
      "execution_count": 53,
      "outputs": []
    },
    {
      "cell_type": "markdown",
      "metadata": {
        "id": "Lc6Zetfi5yb7"
      },
      "source": [
        "**Шаг 1.2. Загрузим данные**\n",
        "\n",
        "Для решения задачи мы будем использовать данные. Они состоят из двух частей: часть для обучения и часть для тестирования модели. Загружаем данные с помощие команды !wget. Для того, чтобы игнорировать сообщения в процессе загрузки используем магическую команду %%capture в первой строке."
      ]
    },
    {
      "cell_type": "code",
      "source": [
        "!git clone https://github.com/IlonaInch/Default_prediction.git"
      ],
      "metadata": {
        "colab": {
          "base_uri": "https://localhost:8080/"
        },
        "id": "sSSk5YIQ0zDs",
        "outputId": "b811de3c-47cd-4bc5-d5c7-f5c0a220f76f"
      },
      "execution_count": 2,
      "outputs": [
        {
          "output_type": "stream",
          "name": "stdout",
          "text": [
            "Cloning into 'Default_prediction'...\n",
            "remote: Enumerating objects: 17, done.\u001b[K\n",
            "remote: Counting objects: 100% (17/17), done.\u001b[K\n",
            "remote: Compressing objects: 100% (15/15), done.\u001b[K\n",
            "remote: Total 17 (delta 4), reused 0 (delta 0), pack-reused 0\u001b[K\n",
            "Unpacking objects: 100% (17/17), done.\n"
          ]
        }
      ]
    },
    {
      "cell_type": "markdown",
      "metadata": {
        "id": "XbQOq5pCJFC9"
      },
      "source": [
        "\n",
        "Наши данные в формате `csv` - delimiter separated values, значения, разделенные точкой с запятой. Чтобы загрузить  данные, используем функцию **`pd.read_csv()`** из библиотеки `pandas`."
      ]
    },
    {
      "cell_type": "code",
      "metadata": {
        "_cell_guid": "3ab4c525-a5cb-4183-9468-c1dd005c4c78",
        "id": "ni39CtSD5yb8",
        "colab": {
          "base_uri": "https://localhost:8080/",
          "height": 424
        },
        "outputId": "cf476551-89d5-4b76-8559-4a0d400b2eed"
      },
      "source": [
        "df = pd.read_csv('/content/Default_prediction/csv_default_1.csv', sep= ';')\n",
        "df"
      ],
      "execution_count": 3,
      "outputs": [
        {
          "output_type": "execute_result",
          "data": {
            "text/plain": [
              "          No  predictor 1  predictor 2 predictor 3  predictor 4 predictor 5  \\\n",
              "0          1        12423          710       441,5            5        4631   \n",
              "1          2        13983         1106         NaN            3        4256   \n",
              "2          3        15520         1276       391,5            1        4397   \n",
              "3          4        29535         1106         NaN            1        3772   \n",
              "4          5        26154          976         315            5        2445   \n",
              "...      ...          ...          ...         ...          ...         ...   \n",
              "9995   9 996        17220         1450       421,5            3        1759   \n",
              "9996   9 997         6173         1100         NaN            1        4521   \n",
              "9997   9 998        41944         1122         311           13        4087   \n",
              "9998   9 999        28381         1314         182            1        4439   \n",
              "9999  10 000        42406          832         281           11        2828   \n",
              "\n",
              "      target  \n",
              "0          1  \n",
              "1          1  \n",
              "2          0  \n",
              "3          1  \n",
              "4          1  \n",
              "...      ...  \n",
              "9995       0  \n",
              "9996       0  \n",
              "9997       0  \n",
              "9998       1  \n",
              "9999       0  \n",
              "\n",
              "[10000 rows x 7 columns]"
            ],
            "text/html": [
              "\n",
              "  <div id=\"df-dd1aafcd-c3d4-4f58-9673-453e75396116\">\n",
              "    <div class=\"colab-df-container\">\n",
              "      <div>\n",
              "<style scoped>\n",
              "    .dataframe tbody tr th:only-of-type {\n",
              "        vertical-align: middle;\n",
              "    }\n",
              "\n",
              "    .dataframe tbody tr th {\n",
              "        vertical-align: top;\n",
              "    }\n",
              "\n",
              "    .dataframe thead th {\n",
              "        text-align: right;\n",
              "    }\n",
              "</style>\n",
              "<table border=\"1\" class=\"dataframe\">\n",
              "  <thead>\n",
              "    <tr style=\"text-align: right;\">\n",
              "      <th></th>\n",
              "      <th>No</th>\n",
              "      <th>predictor 1</th>\n",
              "      <th>predictor 2</th>\n",
              "      <th>predictor 3</th>\n",
              "      <th>predictor 4</th>\n",
              "      <th>predictor 5</th>\n",
              "      <th>target</th>\n",
              "    </tr>\n",
              "  </thead>\n",
              "  <tbody>\n",
              "    <tr>\n",
              "      <th>0</th>\n",
              "      <td>1</td>\n",
              "      <td>12423</td>\n",
              "      <td>710</td>\n",
              "      <td>441,5</td>\n",
              "      <td>5</td>\n",
              "      <td>4631</td>\n",
              "      <td>1</td>\n",
              "    </tr>\n",
              "    <tr>\n",
              "      <th>1</th>\n",
              "      <td>2</td>\n",
              "      <td>13983</td>\n",
              "      <td>1106</td>\n",
              "      <td>NaN</td>\n",
              "      <td>3</td>\n",
              "      <td>4256</td>\n",
              "      <td>1</td>\n",
              "    </tr>\n",
              "    <tr>\n",
              "      <th>2</th>\n",
              "      <td>3</td>\n",
              "      <td>15520</td>\n",
              "      <td>1276</td>\n",
              "      <td>391,5</td>\n",
              "      <td>1</td>\n",
              "      <td>4397</td>\n",
              "      <td>0</td>\n",
              "    </tr>\n",
              "    <tr>\n",
              "      <th>3</th>\n",
              "      <td>4</td>\n",
              "      <td>29535</td>\n",
              "      <td>1106</td>\n",
              "      <td>NaN</td>\n",
              "      <td>1</td>\n",
              "      <td>3772</td>\n",
              "      <td>1</td>\n",
              "    </tr>\n",
              "    <tr>\n",
              "      <th>4</th>\n",
              "      <td>5</td>\n",
              "      <td>26154</td>\n",
              "      <td>976</td>\n",
              "      <td>315</td>\n",
              "      <td>5</td>\n",
              "      <td>2445</td>\n",
              "      <td>1</td>\n",
              "    </tr>\n",
              "    <tr>\n",
              "      <th>...</th>\n",
              "      <td>...</td>\n",
              "      <td>...</td>\n",
              "      <td>...</td>\n",
              "      <td>...</td>\n",
              "      <td>...</td>\n",
              "      <td>...</td>\n",
              "      <td>...</td>\n",
              "    </tr>\n",
              "    <tr>\n",
              "      <th>9995</th>\n",
              "      <td>9 996</td>\n",
              "      <td>17220</td>\n",
              "      <td>1450</td>\n",
              "      <td>421,5</td>\n",
              "      <td>3</td>\n",
              "      <td>1759</td>\n",
              "      <td>0</td>\n",
              "    </tr>\n",
              "    <tr>\n",
              "      <th>9996</th>\n",
              "      <td>9 997</td>\n",
              "      <td>6173</td>\n",
              "      <td>1100</td>\n",
              "      <td>NaN</td>\n",
              "      <td>1</td>\n",
              "      <td>4521</td>\n",
              "      <td>0</td>\n",
              "    </tr>\n",
              "    <tr>\n",
              "      <th>9997</th>\n",
              "      <td>9 998</td>\n",
              "      <td>41944</td>\n",
              "      <td>1122</td>\n",
              "      <td>311</td>\n",
              "      <td>13</td>\n",
              "      <td>4087</td>\n",
              "      <td>0</td>\n",
              "    </tr>\n",
              "    <tr>\n",
              "      <th>9998</th>\n",
              "      <td>9 999</td>\n",
              "      <td>28381</td>\n",
              "      <td>1314</td>\n",
              "      <td>182</td>\n",
              "      <td>1</td>\n",
              "      <td>4439</td>\n",
              "      <td>1</td>\n",
              "    </tr>\n",
              "    <tr>\n",
              "      <th>9999</th>\n",
              "      <td>10 000</td>\n",
              "      <td>42406</td>\n",
              "      <td>832</td>\n",
              "      <td>281</td>\n",
              "      <td>11</td>\n",
              "      <td>2828</td>\n",
              "      <td>0</td>\n",
              "    </tr>\n",
              "  </tbody>\n",
              "</table>\n",
              "<p>10000 rows × 7 columns</p>\n",
              "</div>\n",
              "      <button class=\"colab-df-convert\" onclick=\"convertToInteractive('df-dd1aafcd-c3d4-4f58-9673-453e75396116')\"\n",
              "              title=\"Convert this dataframe to an interactive table.\"\n",
              "              style=\"display:none;\">\n",
              "        \n",
              "  <svg xmlns=\"http://www.w3.org/2000/svg\" height=\"24px\"viewBox=\"0 0 24 24\"\n",
              "       width=\"24px\">\n",
              "    <path d=\"M0 0h24v24H0V0z\" fill=\"none\"/>\n",
              "    <path d=\"M18.56 5.44l.94 2.06.94-2.06 2.06-.94-2.06-.94-.94-2.06-.94 2.06-2.06.94zm-11 1L8.5 8.5l.94-2.06 2.06-.94-2.06-.94L8.5 2.5l-.94 2.06-2.06.94zm10 10l.94 2.06.94-2.06 2.06-.94-2.06-.94-.94-2.06-.94 2.06-2.06.94z\"/><path d=\"M17.41 7.96l-1.37-1.37c-.4-.4-.92-.59-1.43-.59-.52 0-1.04.2-1.43.59L10.3 9.45l-7.72 7.72c-.78.78-.78 2.05 0 2.83L4 21.41c.39.39.9.59 1.41.59.51 0 1.02-.2 1.41-.59l7.78-7.78 2.81-2.81c.8-.78.8-2.07 0-2.86zM5.41 20L4 18.59l7.72-7.72 1.47 1.35L5.41 20z\"/>\n",
              "  </svg>\n",
              "      </button>\n",
              "      \n",
              "  <style>\n",
              "    .colab-df-container {\n",
              "      display:flex;\n",
              "      flex-wrap:wrap;\n",
              "      gap: 12px;\n",
              "    }\n",
              "\n",
              "    .colab-df-convert {\n",
              "      background-color: #E8F0FE;\n",
              "      border: none;\n",
              "      border-radius: 50%;\n",
              "      cursor: pointer;\n",
              "      display: none;\n",
              "      fill: #1967D2;\n",
              "      height: 32px;\n",
              "      padding: 0 0 0 0;\n",
              "      width: 32px;\n",
              "    }\n",
              "\n",
              "    .colab-df-convert:hover {\n",
              "      background-color: #E2EBFA;\n",
              "      box-shadow: 0px 1px 2px rgba(60, 64, 67, 0.3), 0px 1px 3px 1px rgba(60, 64, 67, 0.15);\n",
              "      fill: #174EA6;\n",
              "    }\n",
              "\n",
              "    [theme=dark] .colab-df-convert {\n",
              "      background-color: #3B4455;\n",
              "      fill: #D2E3FC;\n",
              "    }\n",
              "\n",
              "    [theme=dark] .colab-df-convert:hover {\n",
              "      background-color: #434B5C;\n",
              "      box-shadow: 0px 1px 3px 1px rgba(0, 0, 0, 0.15);\n",
              "      filter: drop-shadow(0px 1px 2px rgba(0, 0, 0, 0.3));\n",
              "      fill: #FFFFFF;\n",
              "    }\n",
              "  </style>\n",
              "\n",
              "      <script>\n",
              "        const buttonEl =\n",
              "          document.querySelector('#df-dd1aafcd-c3d4-4f58-9673-453e75396116 button.colab-df-convert');\n",
              "        buttonEl.style.display =\n",
              "          google.colab.kernel.accessAllowed ? 'block' : 'none';\n",
              "\n",
              "        async function convertToInteractive(key) {\n",
              "          const element = document.querySelector('#df-dd1aafcd-c3d4-4f58-9673-453e75396116');\n",
              "          const dataTable =\n",
              "            await google.colab.kernel.invokeFunction('convertToInteractive',\n",
              "                                                     [key], {});\n",
              "          if (!dataTable) return;\n",
              "\n",
              "          const docLinkHtml = 'Like what you see? Visit the ' +\n",
              "            '<a target=\"_blank\" href=https://colab.research.google.com/notebooks/data_table.ipynb>data table notebook</a>'\n",
              "            + ' to learn more about interactive tables.';\n",
              "          element.innerHTML = '';\n",
              "          dataTable['output_type'] = 'display_data';\n",
              "          await google.colab.output.renderOutput(dataTable, element);\n",
              "          const docLink = document.createElement('div');\n",
              "          docLink.innerHTML = docLinkHtml;\n",
              "          element.appendChild(docLink);\n",
              "        }\n",
              "      </script>\n",
              "    </div>\n",
              "  </div>\n",
              "  "
            ]
          },
          "metadata": {},
          "execution_count": 3
        }
      ]
    },
    {
      "cell_type": "markdown",
      "metadata": {
        "id": "8wpDIg0f5ycC"
      },
      "source": [
        "**Шаг 1.3. Посмотрим общую статистику по данным**\n"
      ]
    },
    {
      "cell_type": "code",
      "source": [
        "df.head(5)"
      ],
      "metadata": {
        "colab": {
          "base_uri": "https://localhost:8080/",
          "height": 206
        },
        "id": "yD23lNfb_jWH",
        "outputId": "cce2554c-1b6e-467c-d683-3c017ad18711"
      },
      "execution_count": 4,
      "outputs": [
        {
          "output_type": "execute_result",
          "data": {
            "text/plain": [
              "  No  predictor 1  predictor 2 predictor 3  predictor 4 predictor 5  target\n",
              "0  1        12423          710       441,5            5        4631       1\n",
              "1  2        13983         1106         NaN            3        4256       1\n",
              "2  3        15520         1276       391,5            1        4397       0\n",
              "3  4        29535         1106         NaN            1        3772       1\n",
              "4  5        26154          976         315            5        2445       1"
            ],
            "text/html": [
              "\n",
              "  <div id=\"df-1192116e-528b-4a02-beb8-de6e1bb0534c\">\n",
              "    <div class=\"colab-df-container\">\n",
              "      <div>\n",
              "<style scoped>\n",
              "    .dataframe tbody tr th:only-of-type {\n",
              "        vertical-align: middle;\n",
              "    }\n",
              "\n",
              "    .dataframe tbody tr th {\n",
              "        vertical-align: top;\n",
              "    }\n",
              "\n",
              "    .dataframe thead th {\n",
              "        text-align: right;\n",
              "    }\n",
              "</style>\n",
              "<table border=\"1\" class=\"dataframe\">\n",
              "  <thead>\n",
              "    <tr style=\"text-align: right;\">\n",
              "      <th></th>\n",
              "      <th>No</th>\n",
              "      <th>predictor 1</th>\n",
              "      <th>predictor 2</th>\n",
              "      <th>predictor 3</th>\n",
              "      <th>predictor 4</th>\n",
              "      <th>predictor 5</th>\n",
              "      <th>target</th>\n",
              "    </tr>\n",
              "  </thead>\n",
              "  <tbody>\n",
              "    <tr>\n",
              "      <th>0</th>\n",
              "      <td>1</td>\n",
              "      <td>12423</td>\n",
              "      <td>710</td>\n",
              "      <td>441,5</td>\n",
              "      <td>5</td>\n",
              "      <td>4631</td>\n",
              "      <td>1</td>\n",
              "    </tr>\n",
              "    <tr>\n",
              "      <th>1</th>\n",
              "      <td>2</td>\n",
              "      <td>13983</td>\n",
              "      <td>1106</td>\n",
              "      <td>NaN</td>\n",
              "      <td>3</td>\n",
              "      <td>4256</td>\n",
              "      <td>1</td>\n",
              "    </tr>\n",
              "    <tr>\n",
              "      <th>2</th>\n",
              "      <td>3</td>\n",
              "      <td>15520</td>\n",
              "      <td>1276</td>\n",
              "      <td>391,5</td>\n",
              "      <td>1</td>\n",
              "      <td>4397</td>\n",
              "      <td>0</td>\n",
              "    </tr>\n",
              "    <tr>\n",
              "      <th>3</th>\n",
              "      <td>4</td>\n",
              "      <td>29535</td>\n",
              "      <td>1106</td>\n",
              "      <td>NaN</td>\n",
              "      <td>1</td>\n",
              "      <td>3772</td>\n",
              "      <td>1</td>\n",
              "    </tr>\n",
              "    <tr>\n",
              "      <th>4</th>\n",
              "      <td>5</td>\n",
              "      <td>26154</td>\n",
              "      <td>976</td>\n",
              "      <td>315</td>\n",
              "      <td>5</td>\n",
              "      <td>2445</td>\n",
              "      <td>1</td>\n",
              "    </tr>\n",
              "  </tbody>\n",
              "</table>\n",
              "</div>\n",
              "      <button class=\"colab-df-convert\" onclick=\"convertToInteractive('df-1192116e-528b-4a02-beb8-de6e1bb0534c')\"\n",
              "              title=\"Convert this dataframe to an interactive table.\"\n",
              "              style=\"display:none;\">\n",
              "        \n",
              "  <svg xmlns=\"http://www.w3.org/2000/svg\" height=\"24px\"viewBox=\"0 0 24 24\"\n",
              "       width=\"24px\">\n",
              "    <path d=\"M0 0h24v24H0V0z\" fill=\"none\"/>\n",
              "    <path d=\"M18.56 5.44l.94 2.06.94-2.06 2.06-.94-2.06-.94-.94-2.06-.94 2.06-2.06.94zm-11 1L8.5 8.5l.94-2.06 2.06-.94-2.06-.94L8.5 2.5l-.94 2.06-2.06.94zm10 10l.94 2.06.94-2.06 2.06-.94-2.06-.94-.94-2.06-.94 2.06-2.06.94z\"/><path d=\"M17.41 7.96l-1.37-1.37c-.4-.4-.92-.59-1.43-.59-.52 0-1.04.2-1.43.59L10.3 9.45l-7.72 7.72c-.78.78-.78 2.05 0 2.83L4 21.41c.39.39.9.59 1.41.59.51 0 1.02-.2 1.41-.59l7.78-7.78 2.81-2.81c.8-.78.8-2.07 0-2.86zM5.41 20L4 18.59l7.72-7.72 1.47 1.35L5.41 20z\"/>\n",
              "  </svg>\n",
              "      </button>\n",
              "      \n",
              "  <style>\n",
              "    .colab-df-container {\n",
              "      display:flex;\n",
              "      flex-wrap:wrap;\n",
              "      gap: 12px;\n",
              "    }\n",
              "\n",
              "    .colab-df-convert {\n",
              "      background-color: #E8F0FE;\n",
              "      border: none;\n",
              "      border-radius: 50%;\n",
              "      cursor: pointer;\n",
              "      display: none;\n",
              "      fill: #1967D2;\n",
              "      height: 32px;\n",
              "      padding: 0 0 0 0;\n",
              "      width: 32px;\n",
              "    }\n",
              "\n",
              "    .colab-df-convert:hover {\n",
              "      background-color: #E2EBFA;\n",
              "      box-shadow: 0px 1px 2px rgba(60, 64, 67, 0.3), 0px 1px 3px 1px rgba(60, 64, 67, 0.15);\n",
              "      fill: #174EA6;\n",
              "    }\n",
              "\n",
              "    [theme=dark] .colab-df-convert {\n",
              "      background-color: #3B4455;\n",
              "      fill: #D2E3FC;\n",
              "    }\n",
              "\n",
              "    [theme=dark] .colab-df-convert:hover {\n",
              "      background-color: #434B5C;\n",
              "      box-shadow: 0px 1px 3px 1px rgba(0, 0, 0, 0.15);\n",
              "      filter: drop-shadow(0px 1px 2px rgba(0, 0, 0, 0.3));\n",
              "      fill: #FFFFFF;\n",
              "    }\n",
              "  </style>\n",
              "\n",
              "      <script>\n",
              "        const buttonEl =\n",
              "          document.querySelector('#df-1192116e-528b-4a02-beb8-de6e1bb0534c button.colab-df-convert');\n",
              "        buttonEl.style.display =\n",
              "          google.colab.kernel.accessAllowed ? 'block' : 'none';\n",
              "\n",
              "        async function convertToInteractive(key) {\n",
              "          const element = document.querySelector('#df-1192116e-528b-4a02-beb8-de6e1bb0534c');\n",
              "          const dataTable =\n",
              "            await google.colab.kernel.invokeFunction('convertToInteractive',\n",
              "                                                     [key], {});\n",
              "          if (!dataTable) return;\n",
              "\n",
              "          const docLinkHtml = 'Like what you see? Visit the ' +\n",
              "            '<a target=\"_blank\" href=https://colab.research.google.com/notebooks/data_table.ipynb>data table notebook</a>'\n",
              "            + ' to learn more about interactive tables.';\n",
              "          element.innerHTML = '';\n",
              "          dataTable['output_type'] = 'display_data';\n",
              "          await google.colab.output.renderOutput(dataTable, element);\n",
              "          const docLink = document.createElement('div');\n",
              "          docLink.innerHTML = docLinkHtml;\n",
              "          element.appendChild(docLink);\n",
              "        }\n",
              "      </script>\n",
              "    </div>\n",
              "  </div>\n",
              "  "
            ]
          },
          "metadata": {},
          "execution_count": 4
        }
      ]
    },
    {
      "cell_type": "code",
      "source": [
        "df.shape"
      ],
      "metadata": {
        "colab": {
          "base_uri": "https://localhost:8080/"
        },
        "id": "tnb2_lw8_m4v",
        "outputId": "996f3803-27d2-4fb1-b222-d50ebdd080b0"
      },
      "execution_count": 5,
      "outputs": [
        {
          "output_type": "execute_result",
          "data": {
            "text/plain": [
              "(10000, 7)"
            ]
          },
          "metadata": {},
          "execution_count": 5
        }
      ]
    },
    {
      "cell_type": "markdown",
      "metadata": {
        "id": "00EyTVBq5ycI"
      },
      "source": [
        "# 2. Обработать данные перед обучением модели"
      ]
    },
    {
      "cell_type": "markdown",
      "metadata": {
        "id": "TaqYZAxE5ycI"
      },
      "source": [
        "**Шаг 2.1. Проверяем данные на наличие пропусков и типов переменных**"
      ]
    },
    {
      "cell_type": "code",
      "source": [
        "df.info()\n",
        "#видим, что предикторы 3 и 5 типа \"объект\""
      ],
      "metadata": {
        "colab": {
          "base_uri": "https://localhost:8080/"
        },
        "id": "M0b582VnBsjI",
        "outputId": "052f1672-0a72-448c-92a6-cc819d97f4f8"
      },
      "execution_count": 29,
      "outputs": [
        {
          "output_type": "stream",
          "name": "stdout",
          "text": [
            "<class 'pandas.core.frame.DataFrame'>\n",
            "Int64Index: 3120 entries, 4 to 9999\n",
            "Data columns (total 7 columns):\n",
            " #   Column       Non-Null Count  Dtype  \n",
            "---  ------       --------------  -----  \n",
            " 0   No           3120 non-null   object \n",
            " 1   predictor 1  3120 non-null   int64  \n",
            " 2   predictor 2  3120 non-null   int64  \n",
            " 3   predictor 3  3120 non-null   float64\n",
            " 4   predictor 4  3120 non-null   int64  \n",
            " 5   predictor 5  3120 non-null   float64\n",
            " 6   target       3120 non-null   int64  \n",
            "dtypes: float64(2), int64(4), object(1)\n",
            "memory usage: 195.0+ KB\n"
          ]
        }
      ]
    },
    {
      "cell_type": "code",
      "source": [
        "# проверка количества уникальных значений\n",
        "df.nunique()"
      ],
      "metadata": {
        "colab": {
          "base_uri": "https://localhost:8080/"
        },
        "id": "OpgOUnyj_wf_",
        "outputId": "a475bccf-76dd-4043-e8c4-6ca413fb38cd"
      },
      "execution_count": 30,
      "outputs": [
        {
          "output_type": "execute_result",
          "data": {
            "text/plain": [
              "No             3120\n",
              "predictor 1    2997\n",
              "predictor 2     365\n",
              "predictor 3     296\n",
              "predictor 4      19\n",
              "predictor 5    2325\n",
              "target            2\n",
              "dtype: int64"
            ]
          },
          "metadata": {},
          "execution_count": 30
        }
      ]
    },
    {
      "cell_type": "code",
      "source": [
        "# наличие NaN значений\n",
        "df.isna().sum()"
      ],
      "metadata": {
        "colab": {
          "base_uri": "https://localhost:8080/"
        },
        "id": "wiMR7fLK_3iF",
        "outputId": "11a4f634-8b4a-4702-b2fd-7f76b3efeba3"
      },
      "execution_count": 31,
      "outputs": [
        {
          "output_type": "execute_result",
          "data": {
            "text/plain": [
              "No             0\n",
              "predictor 1    0\n",
              "predictor 2    0\n",
              "predictor 3    0\n",
              "predictor 4    0\n",
              "predictor 5    0\n",
              "target         0\n",
              "dtype: int64"
            ]
          },
          "metadata": {},
          "execution_count": 31
        }
      ]
    },
    {
      "cell_type": "code",
      "source": [
        "# как мы видим, в предикторе 3 есть NAN значения в количестве 1913"
      ],
      "metadata": {
        "id": "HeWwgF9DAGpG"
      },
      "execution_count": 32,
      "outputs": []
    },
    {
      "cell_type": "code",
      "source": [
        "df.dropna(inplace=True)\n",
        "df.shape\n",
        "# удалили значения NAN и смотрим shape, сколько участвуют в эксперименте"
      ],
      "metadata": {
        "colab": {
          "base_uri": "https://localhost:8080/"
        },
        "id": "Ijqzq37VAPTQ",
        "outputId": "ce25652f-88f0-42d2-a875-2396387318f0"
      },
      "execution_count": 33,
      "outputs": [
        {
          "output_type": "execute_result",
          "data": {
            "text/plain": [
              "(3120, 7)"
            ]
          },
          "metadata": {},
          "execution_count": 33
        }
      ]
    },
    {
      "cell_type": "code",
      "source": [
        "df[[\"predictor 3\", \"predictor 5\"]] = df[[\"predictor 3\", \"predictor 5\"]].apply(pd.to_numeric, errors = 'coerce')\n",
        "df.info()"
      ],
      "metadata": {
        "colab": {
          "base_uri": "https://localhost:8080/"
        },
        "id": "L5jqa1_bC1FM",
        "outputId": "ae76318f-6c6b-4731-9eac-c388e11a7d46"
      },
      "execution_count": 34,
      "outputs": [
        {
          "output_type": "stream",
          "name": "stdout",
          "text": [
            "<class 'pandas.core.frame.DataFrame'>\n",
            "Int64Index: 3120 entries, 4 to 9999\n",
            "Data columns (total 7 columns):\n",
            " #   Column       Non-Null Count  Dtype  \n",
            "---  ------       --------------  -----  \n",
            " 0   No           3120 non-null   object \n",
            " 1   predictor 1  3120 non-null   int64  \n",
            " 2   predictor 2  3120 non-null   int64  \n",
            " 3   predictor 3  3120 non-null   float64\n",
            " 4   predictor 4  3120 non-null   int64  \n",
            " 5   predictor 5  3120 non-null   float64\n",
            " 6   target       3120 non-null   int64  \n",
            "dtypes: float64(2), int64(4), object(1)\n",
            "memory usage: 195.0+ KB\n"
          ]
        }
      ]
    },
    {
      "cell_type": "markdown",
      "metadata": {
        "id": "euQeNQOT5ycM"
      },
      "source": [
        "\n",
        "**Шаг 2.2. Заполнение пропусков**\n",
        "\n",
        "Рассчитаем средние значения признаков в обучающей выборке, и заполним полученными\n",
        "числами пропуски как в **тестовом наборе** данных, так и в **самой обучающей выборке**.\n",
        "\n",
        "\n"
      ]
    },
    {
      "cell_type": "code",
      "source": [
        "df['target'].value_counts()\n",
        "#видим, что кол-во хороших заемщиков = 2489, а плохих = 631"
      ],
      "metadata": {
        "colab": {
          "base_uri": "https://localhost:8080/"
        },
        "id": "wjKbdOLNjfvW",
        "outputId": "53772a4a-b32e-45af-c06a-fe1924505cc7"
      },
      "execution_count": 35,
      "outputs": [
        {
          "output_type": "execute_result",
          "data": {
            "text/plain": [
              "0    2489\n",
              "1     631\n",
              "Name: target, dtype: int64"
            ]
          },
          "metadata": {},
          "execution_count": 35
        }
      ]
    },
    {
      "cell_type": "code",
      "source": [
        "training_values = df['target']\n",
        "training_values.shape"
      ],
      "metadata": {
        "colab": {
          "base_uri": "https://localhost:8080/"
        },
        "id": "3eFgn8k_j4dS",
        "outputId": "2e8dd06d-e705-4048-89b1-2c288088f08e"
      },
      "execution_count": 36,
      "outputs": [
        {
          "output_type": "execute_result",
          "data": {
            "text/plain": [
              "(3120,)"
            ]
          },
          "metadata": {},
          "execution_count": 36
        }
      ]
    },
    {
      "cell_type": "code",
      "source": [
        "training_points = df.drop(['target', 'No'], axis=1)\n",
        "training_points.shape"
      ],
      "metadata": {
        "colab": {
          "base_uri": "https://localhost:8080/"
        },
        "id": "IMAcQIPDkHnq",
        "outputId": "f6c16dd2-56cb-4457-b23e-59e76cc0f28a"
      },
      "execution_count": 37,
      "outputs": [
        {
          "output_type": "execute_result",
          "data": {
            "text/plain": [
              "(3120, 5)"
            ]
          },
          "metadata": {},
          "execution_count": 37
        }
      ]
    },
    {
      "cell_type": "code",
      "source": [
        "\n",
        "logistic_regression_model = linear_model.LogisticRegression(C=2) # создаем модель\n",
        "random_forest_model = ensemble.RandomForestClassifier(n_estimators=50)"
      ],
      "metadata": {
        "id": "7TUVa42-krHO"
      },
      "execution_count": 38,
      "outputs": []
    },
    {
      "cell_type": "code",
      "metadata": {
        "id": "9uBmGCVY5ycM",
        "colab": {
          "base_uri": "https://localhost:8080/"
        },
        "outputId": "f941751f-e1bf-4b36-c209-fb859b69bb6c"
      },
      "source": [
        "mean = df.mean()\n",
        "mean"
      ],
      "execution_count": 39,
      "outputs": [
        {
          "output_type": "execute_result",
          "data": {
            "text/plain": [
              "predictor 1    21672.439103\n",
              "predictor 2     1122.437821\n",
              "predictor 3      367.647756\n",
              "predictor 4        3.832692\n",
              "predictor 5     2514.570192\n",
              "target             0.202244\n",
              "dtype: float64"
            ]
          },
          "metadata": {},
          "execution_count": 39
        }
      ]
    },
    {
      "cell_type": "markdown",
      "metadata": {
        "id": "yy0tqswo5ycV"
      },
      "source": [
        "**Шаг 2.3. Работаем с целевой переменной**\n",
        "\n",
        "Мы должны прогнозировать дефолт, поэтому целевая переменная - это наличие дефолта. "
      ]
    },
    {
      "cell_type": "markdown",
      "metadata": {
        "id": "yhmNvWOJ5ycq"
      },
      "source": [
        "Отделим входные переменные от выходной (целевой), чтобы можно было построить модель предсказания целевой переменной по входным."
      ]
    },
    {
      "cell_type": "code",
      "metadata": {
        "id": "arIkbpOu5ycr",
        "colab": {
          "base_uri": "https://localhost:8080/",
          "height": 424
        },
        "outputId": "27298b55-4857-4e63-975a-8da0e9aa59f2"
      },
      "source": [
        "df.dropna(inplace=True)\n",
        "train_data = df.drop(['target', 'No'], axis=1)\n",
        "\n",
        "train_data.shape\n",
        "train_data\n",
        "#удалили ненужные столбцы Номер и целевой target"
      ],
      "execution_count": 40,
      "outputs": [
        {
          "output_type": "execute_result",
          "data": {
            "text/plain": [
              "      predictor 1  predictor 2  predictor 3  predictor 4  predictor 5\n",
              "4           26154          976        315.0            5       2445.0\n",
              "14          17262         1106        169.0            3       2886.0\n",
              "16          13577         1096        401.0            5       4794.0\n",
              "19           6233         1060        419.0            5       1401.0\n",
              "20          13382         1040        304.0            7       2923.0\n",
              "...           ...          ...          ...          ...          ...\n",
              "9993        12802          968        351.0            3       2548.0\n",
              "9994          796         1302        410.0            5       4286.0\n",
              "9997        41944         1122        311.0           13       4087.0\n",
              "9998        28381         1314        182.0            1       4439.0\n",
              "9999        42406          832        281.0           11       2828.0\n",
              "\n",
              "[3120 rows x 5 columns]"
            ],
            "text/html": [
              "\n",
              "  <div id=\"df-9996a33b-1af0-4e7f-8929-4883b557ddb5\">\n",
              "    <div class=\"colab-df-container\">\n",
              "      <div>\n",
              "<style scoped>\n",
              "    .dataframe tbody tr th:only-of-type {\n",
              "        vertical-align: middle;\n",
              "    }\n",
              "\n",
              "    .dataframe tbody tr th {\n",
              "        vertical-align: top;\n",
              "    }\n",
              "\n",
              "    .dataframe thead th {\n",
              "        text-align: right;\n",
              "    }\n",
              "</style>\n",
              "<table border=\"1\" class=\"dataframe\">\n",
              "  <thead>\n",
              "    <tr style=\"text-align: right;\">\n",
              "      <th></th>\n",
              "      <th>predictor 1</th>\n",
              "      <th>predictor 2</th>\n",
              "      <th>predictor 3</th>\n",
              "      <th>predictor 4</th>\n",
              "      <th>predictor 5</th>\n",
              "    </tr>\n",
              "  </thead>\n",
              "  <tbody>\n",
              "    <tr>\n",
              "      <th>4</th>\n",
              "      <td>26154</td>\n",
              "      <td>976</td>\n",
              "      <td>315.0</td>\n",
              "      <td>5</td>\n",
              "      <td>2445.0</td>\n",
              "    </tr>\n",
              "    <tr>\n",
              "      <th>14</th>\n",
              "      <td>17262</td>\n",
              "      <td>1106</td>\n",
              "      <td>169.0</td>\n",
              "      <td>3</td>\n",
              "      <td>2886.0</td>\n",
              "    </tr>\n",
              "    <tr>\n",
              "      <th>16</th>\n",
              "      <td>13577</td>\n",
              "      <td>1096</td>\n",
              "      <td>401.0</td>\n",
              "      <td>5</td>\n",
              "      <td>4794.0</td>\n",
              "    </tr>\n",
              "    <tr>\n",
              "      <th>19</th>\n",
              "      <td>6233</td>\n",
              "      <td>1060</td>\n",
              "      <td>419.0</td>\n",
              "      <td>5</td>\n",
              "      <td>1401.0</td>\n",
              "    </tr>\n",
              "    <tr>\n",
              "      <th>20</th>\n",
              "      <td>13382</td>\n",
              "      <td>1040</td>\n",
              "      <td>304.0</td>\n",
              "      <td>7</td>\n",
              "      <td>2923.0</td>\n",
              "    </tr>\n",
              "    <tr>\n",
              "      <th>...</th>\n",
              "      <td>...</td>\n",
              "      <td>...</td>\n",
              "      <td>...</td>\n",
              "      <td>...</td>\n",
              "      <td>...</td>\n",
              "    </tr>\n",
              "    <tr>\n",
              "      <th>9993</th>\n",
              "      <td>12802</td>\n",
              "      <td>968</td>\n",
              "      <td>351.0</td>\n",
              "      <td>3</td>\n",
              "      <td>2548.0</td>\n",
              "    </tr>\n",
              "    <tr>\n",
              "      <th>9994</th>\n",
              "      <td>796</td>\n",
              "      <td>1302</td>\n",
              "      <td>410.0</td>\n",
              "      <td>5</td>\n",
              "      <td>4286.0</td>\n",
              "    </tr>\n",
              "    <tr>\n",
              "      <th>9997</th>\n",
              "      <td>41944</td>\n",
              "      <td>1122</td>\n",
              "      <td>311.0</td>\n",
              "      <td>13</td>\n",
              "      <td>4087.0</td>\n",
              "    </tr>\n",
              "    <tr>\n",
              "      <th>9998</th>\n",
              "      <td>28381</td>\n",
              "      <td>1314</td>\n",
              "      <td>182.0</td>\n",
              "      <td>1</td>\n",
              "      <td>4439.0</td>\n",
              "    </tr>\n",
              "    <tr>\n",
              "      <th>9999</th>\n",
              "      <td>42406</td>\n",
              "      <td>832</td>\n",
              "      <td>281.0</td>\n",
              "      <td>11</td>\n",
              "      <td>2828.0</td>\n",
              "    </tr>\n",
              "  </tbody>\n",
              "</table>\n",
              "<p>3120 rows × 5 columns</p>\n",
              "</div>\n",
              "      <button class=\"colab-df-convert\" onclick=\"convertToInteractive('df-9996a33b-1af0-4e7f-8929-4883b557ddb5')\"\n",
              "              title=\"Convert this dataframe to an interactive table.\"\n",
              "              style=\"display:none;\">\n",
              "        \n",
              "  <svg xmlns=\"http://www.w3.org/2000/svg\" height=\"24px\"viewBox=\"0 0 24 24\"\n",
              "       width=\"24px\">\n",
              "    <path d=\"M0 0h24v24H0V0z\" fill=\"none\"/>\n",
              "    <path d=\"M18.56 5.44l.94 2.06.94-2.06 2.06-.94-2.06-.94-.94-2.06-.94 2.06-2.06.94zm-11 1L8.5 8.5l.94-2.06 2.06-.94-2.06-.94L8.5 2.5l-.94 2.06-2.06.94zm10 10l.94 2.06.94-2.06 2.06-.94-2.06-.94-.94-2.06-.94 2.06-2.06.94z\"/><path d=\"M17.41 7.96l-1.37-1.37c-.4-.4-.92-.59-1.43-.59-.52 0-1.04.2-1.43.59L10.3 9.45l-7.72 7.72c-.78.78-.78 2.05 0 2.83L4 21.41c.39.39.9.59 1.41.59.51 0 1.02-.2 1.41-.59l7.78-7.78 2.81-2.81c.8-.78.8-2.07 0-2.86zM5.41 20L4 18.59l7.72-7.72 1.47 1.35L5.41 20z\"/>\n",
              "  </svg>\n",
              "      </button>\n",
              "      \n",
              "  <style>\n",
              "    .colab-df-container {\n",
              "      display:flex;\n",
              "      flex-wrap:wrap;\n",
              "      gap: 12px;\n",
              "    }\n",
              "\n",
              "    .colab-df-convert {\n",
              "      background-color: #E8F0FE;\n",
              "      border: none;\n",
              "      border-radius: 50%;\n",
              "      cursor: pointer;\n",
              "      display: none;\n",
              "      fill: #1967D2;\n",
              "      height: 32px;\n",
              "      padding: 0 0 0 0;\n",
              "      width: 32px;\n",
              "    }\n",
              "\n",
              "    .colab-df-convert:hover {\n",
              "      background-color: #E2EBFA;\n",
              "      box-shadow: 0px 1px 2px rgba(60, 64, 67, 0.3), 0px 1px 3px 1px rgba(60, 64, 67, 0.15);\n",
              "      fill: #174EA6;\n",
              "    }\n",
              "\n",
              "    [theme=dark] .colab-df-convert {\n",
              "      background-color: #3B4455;\n",
              "      fill: #D2E3FC;\n",
              "    }\n",
              "\n",
              "    [theme=dark] .colab-df-convert:hover {\n",
              "      background-color: #434B5C;\n",
              "      box-shadow: 0px 1px 3px 1px rgba(0, 0, 0, 0.15);\n",
              "      filter: drop-shadow(0px 1px 2px rgba(0, 0, 0, 0.3));\n",
              "      fill: #FFFFFF;\n",
              "    }\n",
              "  </style>\n",
              "\n",
              "      <script>\n",
              "        const buttonEl =\n",
              "          document.querySelector('#df-9996a33b-1af0-4e7f-8929-4883b557ddb5 button.colab-df-convert');\n",
              "        buttonEl.style.display =\n",
              "          google.colab.kernel.accessAllowed ? 'block' : 'none';\n",
              "\n",
              "        async function convertToInteractive(key) {\n",
              "          const element = document.querySelector('#df-9996a33b-1af0-4e7f-8929-4883b557ddb5');\n",
              "          const dataTable =\n",
              "            await google.colab.kernel.invokeFunction('convertToInteractive',\n",
              "                                                     [key], {});\n",
              "          if (!dataTable) return;\n",
              "\n",
              "          const docLinkHtml = 'Like what you see? Visit the ' +\n",
              "            '<a target=\"_blank\" href=https://colab.research.google.com/notebooks/data_table.ipynb>data table notebook</a>'\n",
              "            + ' to learn more about interactive tables.';\n",
              "          element.innerHTML = '';\n",
              "          dataTable['output_type'] = 'display_data';\n",
              "          await google.colab.output.renderOutput(dataTable, element);\n",
              "          const docLink = document.createElement('div');\n",
              "          docLink.innerHTML = docLinkHtml;\n",
              "          element.appendChild(docLink);\n",
              "        }\n",
              "      </script>\n",
              "    </div>\n",
              "  </div>\n",
              "  "
            ]
          },
          "metadata": {},
          "execution_count": 40
        }
      ]
    },
    {
      "cell_type": "code",
      "source": [
        "test_data = df['target']\n",
        "test_data.shape"
      ],
      "metadata": {
        "colab": {
          "base_uri": "https://localhost:8080/"
        },
        "id": "2ycYietZG3p9",
        "outputId": "4c741ca6-de57-4c0a-a69a-5ca1297ef5d2"
      },
      "execution_count": 41,
      "outputs": [
        {
          "output_type": "execute_result",
          "data": {
            "text/plain": [
              "(3120,)"
            ]
          },
          "metadata": {},
          "execution_count": 41
        }
      ]
    },
    {
      "cell_type": "markdown",
      "metadata": {
        "id": "WwTUoxhW5ycy"
      },
      "source": [
        "##   3. Обучить модель на обучающей выборке"
      ]
    },
    {
      "cell_type": "markdown",
      "metadata": {
        "id": "yjkC8cCH5ycz"
      },
      "source": [
        "**Шаг 3.1. Выбираем метод, который будем использовать**\n",
        "\n",
        "Воспользуемся двумя методами для построения моделей классификации и сравним их между собой:\n",
        "* Логистическая регрессия *logistic regression*\n",
        "* Случайный лес *random forest*\n"
      ]
    },
    {
      "cell_type": "code",
      "metadata": {
        "id": "H0x0p65d5yc7"
      },
      "source": [
        "logistic_regression_model = linear_model.LogisticRegression() # создаем модель"
      ],
      "execution_count": 43,
      "outputs": []
    },
    {
      "cell_type": "code",
      "metadata": {
        "id": "wlgtW_nl5ydB"
      },
      "source": [
        "random_forest_model = ensemble.RandomForestClassifier(n_estimators=50)"
      ],
      "execution_count": 44,
      "outputs": []
    },
    {
      "cell_type": "markdown",
      "metadata": {
        "id": "5r-rWuo-5ydJ"
      },
      "source": [
        "**Шаг 3.2. Обучить модель**\n"
      ]
    },
    {
      "cell_type": "code",
      "source": [
        "train_data = train_data.astype(int) # to make sure that the data is actually in int format.\n",
        "test_data = test_data.astype(int)"
      ],
      "metadata": {
        "id": "LT5xwjLGQgwr"
      },
      "execution_count": 45,
      "outputs": []
    },
    {
      "cell_type": "code",
      "source": [
        "\n",
        "X_train, X_test, Y_train, Y_test = train_test_split(train_data, test_data, test_size=0.25, random_state=7)\n",
        "#разбивка данных на обучение 70% и тест 30%\n",
        "print(X_train.shape, X_test.shape, Y_train.shape, Y_test.shape)"
      ],
      "metadata": {
        "colab": {
          "base_uri": "https://localhost:8080/"
        },
        "id": "gQweML8mPZ21",
        "outputId": "df57eb9c-8e5a-46a1-8c3a-913b86d8f834"
      },
      "execution_count": 46,
      "outputs": [
        {
          "output_type": "stream",
          "name": "stdout",
          "text": [
            "(2340, 5) (780, 5) (2340,) (780,)\n"
          ]
        }
      ]
    },
    {
      "cell_type": "code",
      "source": [
        "lr_clf = LogisticRegression()\n",
        "lr_clf.fit(X_train, Y_train, 0.3)"
      ],
      "metadata": {
        "colab": {
          "base_uri": "https://localhost:8080/"
        },
        "id": "6I6DiRpEww4k",
        "outputId": "f5494e32-7ab3-42da-9522-ac5aa7bd431a"
      },
      "execution_count": 48,
      "outputs": [
        {
          "output_type": "execute_result",
          "data": {
            "text/plain": [
              "LogisticRegression()"
            ]
          },
          "metadata": {},
          "execution_count": 48
        }
      ]
    },
    {
      "cell_type": "code",
      "source": [
        "\n",
        "lr_pred = lr_clf.predict(X_train)\n",
        "train_score = accuracy_score(Y_train, lr_pred) * 100\n",
        "#R_squared1 = r2_score(lr_pred, y_train)\n",
        "print(f\"Train accuracy score: {train_score:.2f}%,\")\n",
        "\n",
        "lr_pred = lr_clf.predict(X_test)\n",
        "test_score = accuracy_score(Y_test, lr_pred) * 100\n",
        "#R_squared = r2_score(lr_pred, y_test)\n",
        "print(f\"Test accuracy score: {test_score:.2f}%,\")"
      ],
      "metadata": {
        "colab": {
          "base_uri": "https://localhost:8080/"
        },
        "id": "pqeRuQuLxxBj",
        "outputId": "67789c35-8bd6-4d31-a8f9-70200e731987"
      },
      "execution_count": 49,
      "outputs": [
        {
          "output_type": "stream",
          "name": "stdout",
          "text": [
            "Train accuracy score: 81.32%,\n",
            "Test accuracy score: 77.44%,\n"
          ]
        }
      ]
    },
    {
      "cell_type": "markdown",
      "source": [
        "Точно также построим модель случайного леса"
      ],
      "metadata": {
        "id": "MOKxIZulyUqI"
      }
    },
    {
      "cell_type": "code",
      "source": [
        "\n",
        "clfRFC = RandomForestClassifier()\n",
        "clfRFC.fit(X_train, Y_train, 0.3)\n"
      ],
      "metadata": {
        "colab": {
          "base_uri": "https://localhost:8080/"
        },
        "id": "wy4vQ2kZ3DWC",
        "outputId": "6ba17cd9-6e41-4463-e22a-095c01ac4117"
      },
      "execution_count": 50,
      "outputs": [
        {
          "output_type": "execute_result",
          "data": {
            "text/plain": [
              "RandomForestClassifier()"
            ]
          },
          "metadata": {},
          "execution_count": 50
        }
      ]
    },
    {
      "cell_type": "code",
      "source": [
        "\n",
        "clfRFC_predict = clfRFC.predict(X_train)\n",
        "train_score = accuracy_score(Y_train, clfRFC_predict) * 100\n",
        "#R_squared1 = r2_score(lr_pred, y_train)\n",
        "print(f\"Train accuracy score: {train_score:.2f}%,\")\n",
        "\n",
        "clfRFC_predict = clfRFC.predict(X_test)\n",
        "test_score = accuracy_score(Y_test, clfRFC_predict) * 100\n",
        "#R_squared = r2_score(lr_pred, y_test)\n",
        "print(f\"Test accuracy score: {test_score:.2f}%,\")"
      ],
      "metadata": {
        "colab": {
          "base_uri": "https://localhost:8080/"
        },
        "id": "DPbS6F1x4Pbc",
        "outputId": "785c5fe9-cef7-4a86-b37c-384ca6bca02f"
      },
      "execution_count": 51,
      "outputs": [
        {
          "output_type": "stream",
          "name": "stdout",
          "text": [
            "Train accuracy score: 100.00%,\n",
            "Test accuracy score: 77.56%,\n"
          ]
        }
      ]
    },
    {
      "cell_type": "markdown",
      "metadata": {
        "id": "beMhsTKQ5ydO"
      },
      "source": [
        "* Мы получили две обученные модели. Обе модели показали высокую точность"
      ]
    },
    {
      "cell_type": "markdown",
      "metadata": {
        "id": "GdKe23aH5yd5"
      },
      "source": [
        "### Шаг 5.2. Матрица ошибок модели классификации"
      ]
    },
    {
      "cell_type": "markdown",
      "metadata": {
        "id": "isaLYaqS5yeq"
      },
      "source": [
        "ROC кривая классификатора"
      ]
    }
  ]
}